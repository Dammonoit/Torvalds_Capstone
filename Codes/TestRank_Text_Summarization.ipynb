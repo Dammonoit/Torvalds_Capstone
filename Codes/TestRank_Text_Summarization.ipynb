{
 "cells": [
  {
   "cell_type": "markdown",
   "metadata": {
    "colab_type": "text",
    "id": "view-in-github"
   },
   "source": [
    "<a href=\"https://colab.research.google.com/github/prateekjoshi565/textrank_text_summarization/blob/master/TestRank_Text_Summarization.ipynb\" target=\"_parent\"><img src=\"https://colab.research.google.com/assets/colab-badge.svg\" alt=\"Open In Colab\"/></a>"
   ]
  },
  {
   "cell_type": "code",
   "execution_count": 2,
   "metadata": {
    "colab": {
     "base_uri": "https://localhost:8080/",
     "height": 54
    },
    "colab_type": "code",
    "id": "WeptlGXN2MnF",
    "outputId": "781281df-51c3-4729-fe6c-7c8401925582"
   },
   "outputs": [
    {
     "name": "stdout",
     "output_type": "stream",
     "text": [
      "[nltk_data] Error loading punkt: <urlopen error [Errno -3] Temporary\n",
      "[nltk_data]     failure in name resolution>\n"
     ]
    }
   ],
   "source": [
    "import numpy as np\n",
    "import pandas as pd\n",
    "import nltk\n",
    "from nltk.tokenize import sent_tokenize\n",
    "nltk.download('punkt') # one time execution\n",
    "import re"
   ]
  },
  {
   "cell_type": "code",
   "execution_count": 3,
   "metadata": {
    "colab": {
     "base_uri": "https://localhost:8080/",
     "height": 73,
     "resources": {
      "http://localhost:8080/nbextensions/google.colab/files.js": {
       "data": "Ly8gQ29weXJpZ2h0IDIwMTcgR29vZ2xlIExMQwovLwovLyBMaWNlbnNlZCB1bmRlciB0aGUgQXBhY2hlIExpY2Vuc2UsIFZlcnNpb24gMi4wICh0aGUgIkxpY2Vuc2UiKTsKLy8geW91IG1heSBub3QgdXNlIHRoaXMgZmlsZSBleGNlcHQgaW4gY29tcGxpYW5jZSB3aXRoIHRoZSBMaWNlbnNlLgovLyBZb3UgbWF5IG9idGFpbiBhIGNvcHkgb2YgdGhlIExpY2Vuc2UgYXQKLy8KLy8gICAgICBodHRwOi8vd3d3LmFwYWNoZS5vcmcvbGljZW5zZXMvTElDRU5TRS0yLjAKLy8KLy8gVW5sZXNzIHJlcXVpcmVkIGJ5IGFwcGxpY2FibGUgbGF3IG9yIGFncmVlZCB0byBpbiB3cml0aW5nLCBzb2Z0d2FyZQovLyBkaXN0cmlidXRlZCB1bmRlciB0aGUgTGljZW5zZSBpcyBkaXN0cmlidXRlZCBvbiBhbiAiQVMgSVMiIEJBU0lTLAovLyBXSVRIT1VUIFdBUlJBTlRJRVMgT1IgQ09ORElUSU9OUyBPRiBBTlkgS0lORCwgZWl0aGVyIGV4cHJlc3Mgb3IgaW1wbGllZC4KLy8gU2VlIHRoZSBMaWNlbnNlIGZvciB0aGUgc3BlY2lmaWMgbGFuZ3VhZ2UgZ292ZXJuaW5nIHBlcm1pc3Npb25zIGFuZAovLyBsaW1pdGF0aW9ucyB1bmRlciB0aGUgTGljZW5zZS4KCi8qKgogKiBAZmlsZW92ZXJ2aWV3IEhlbHBlcnMgZm9yIGdvb2dsZS5jb2xhYiBQeXRob24gbW9kdWxlLgogKi8KKGZ1bmN0aW9uKHNjb3BlKSB7CmZ1bmN0aW9uIHNwYW4odGV4dCwgc3R5bGVBdHRyaWJ1dGVzID0ge30pIHsKICBjb25zdCBlbGVtZW50ID0gZG9jdW1lbnQuY3JlYXRlRWxlbWVudCgnc3BhbicpOwogIGVsZW1lbnQudGV4dENvbnRlbnQgPSB0ZXh0OwogIGZvciAoY29uc3Qga2V5IG9mIE9iamVjdC5rZXlzKHN0eWxlQXR0cmlidXRlcykpIHsKICAgIGVsZW1lbnQuc3R5bGVba2V5XSA9IHN0eWxlQXR0cmlidXRlc1trZXldOwogIH0KICByZXR1cm4gZWxlbWVudDsKfQoKLy8gTWF4IG51bWJlciBvZiBieXRlcyB3aGljaCB3aWxsIGJlIHVwbG9hZGVkIGF0IGEgdGltZS4KY29uc3QgTUFYX1BBWUxPQURfU0laRSA9IDEwMCAqIDEwMjQ7Ci8vIE1heCBhbW91bnQgb2YgdGltZSB0byBibG9jayB3YWl0aW5nIGZvciB0aGUgdXNlci4KY29uc3QgRklMRV9DSEFOR0VfVElNRU9VVF9NUyA9IDMwICogMTAwMDsKCmZ1bmN0aW9uIF91cGxvYWRGaWxlcyhpbnB1dElkLCBvdXRwdXRJZCkgewogIGNvbnN0IHN0ZXBzID0gdXBsb2FkRmlsZXNTdGVwKGlucHV0SWQsIG91dHB1dElkKTsKICBjb25zdCBvdXRwdXRFbGVtZW50ID0gZG9jdW1lbnQuZ2V0RWxlbWVudEJ5SWQob3V0cHV0SWQpOwogIC8vIENhY2hlIHN0ZXBzIG9uIHRoZSBvdXRwdXRFbGVtZW50IHRvIG1ha2UgaXQgYXZhaWxhYmxlIGZvciB0aGUgbmV4dCBjYWxsCiAgLy8gdG8gdXBsb2FkRmlsZXNDb250aW51ZSBmcm9tIFB5dGhvbi4KICBvdXRwdXRFbGVtZW50LnN0ZXBzID0gc3RlcHM7CgogIHJldHVybiBfdXBsb2FkRmlsZXNDb250aW51ZShvdXRwdXRJZCk7Cn0KCi8vIFRoaXMgaXMgcm91Z2hseSBhbiBhc3luYyBnZW5lcmF0b3IgKG5vdCBzdXBwb3J0ZWQgaW4gdGhlIGJyb3dzZXIgeWV0KSwKLy8gd2hlcmUgdGhlcmUgYXJlIG11bHRpcGxlIGFzeW5jaHJvbm91cyBzdGVwcyBhbmQgdGhlIFB5dGhvbiBzaWRlIGlzIGdvaW5nCi8vIHRvIHBvbGwgZm9yIGNvbXBsZXRpb24gb2YgZWFjaCBzdGVwLgovLyBUaGlzIHVzZXMgYSBQcm9taXNlIHRvIGJsb2NrIHRoZSBweXRob24gc2lkZSBvbiBjb21wbGV0aW9uIG9mIGVhY2ggc3RlcCwKLy8gdGhlbiBwYXNzZXMgdGhlIHJlc3VsdCBvZiB0aGUgcHJldmlvdXMgc3RlcCBhcyB0aGUgaW5wdXQgdG8gdGhlIG5leHQgc3RlcC4KZnVuY3Rpb24gX3VwbG9hZEZpbGVzQ29udGludWUob3V0cHV0SWQpIHsKICBjb25zdCBvdXRwdXRFbGVtZW50ID0gZG9jdW1lbnQuZ2V0RWxlbWVudEJ5SWQob3V0cHV0SWQpOwogIGNvbnN0IHN0ZXBzID0gb3V0cHV0RWxlbWVudC5zdGVwczsKCiAgY29uc3QgbmV4dCA9IHN0ZXBzLm5leHQob3V0cHV0RWxlbWVudC5sYXN0UHJvbWlzZVZhbHVlKTsKICByZXR1cm4gUHJvbWlzZS5yZXNvbHZlKG5leHQudmFsdWUucHJvbWlzZSkudGhlbigodmFsdWUpID0+IHsKICAgIC8vIENhY2hlIHRoZSBsYXN0IHByb21pc2UgdmFsdWUgdG8gbWFrZSBpdCBhdmFpbGFibGUgdG8gdGhlIG5leHQKICAgIC8vIHN0ZXAgb2YgdGhlIGdlbmVyYXRvci4KICAgIG91dHB1dEVsZW1lbnQubGFzdFByb21pc2VWYWx1ZSA9IHZhbHVlOwogICAgcmV0dXJuIG5leHQudmFsdWUucmVzcG9uc2U7CiAgfSk7Cn0KCi8qKgogKiBHZW5lcmF0b3IgZnVuY3Rpb24gd2hpY2ggaXMgY2FsbGVkIGJldHdlZW4gZWFjaCBhc3luYyBzdGVwIG9mIHRoZSB1cGxvYWQKICogcHJvY2Vzcy4KICogQHBhcmFtIHtzdHJpbmd9IGlucHV0SWQgRWxlbWVudCBJRCBvZiB0aGUgaW5wdXQgZmlsZSBwaWNrZXIgZWxlbWVudC4KICogQHBhcmFtIHtzdHJpbmd9IG91dHB1dElkIEVsZW1lbnQgSUQgb2YgdGhlIG91dHB1dCBkaXNwbGF5LgogKiBAcmV0dXJuIHshSXRlcmFibGU8IU9iamVjdD59IEl0ZXJhYmxlIG9mIG5leHQgc3RlcHMuCiAqLwpmdW5jdGlvbiogdXBsb2FkRmlsZXNTdGVwKGlucHV0SWQsIG91dHB1dElkKSB7CiAgY29uc3QgaW5wdXRFbGVtZW50ID0gZG9jdW1lbnQuZ2V0RWxlbWVudEJ5SWQoaW5wdXRJZCk7CiAgaW5wdXRFbGVtZW50LmRpc2FibGVkID0gZmFsc2U7CgogIGNvbnN0IG91dHB1dEVsZW1lbnQgPSBkb2N1bWVudC5nZXRFbGVtZW50QnlJZChvdXRwdXRJZCk7CiAgb3V0cHV0RWxlbWVudC5pbm5lckhUTUwgPSAnJzsKCiAgY29uc3QgcGlja2VkUHJvbWlzZSA9IG5ldyBQcm9taXNlKChyZXNvbHZlKSA9PiB7CiAgICBpbnB1dEVsZW1lbnQuYWRkRXZlbnRMaXN0ZW5lcignY2hhbmdlJywgKGUpID0+IHsKICAgICAgcmVzb2x2ZShlLnRhcmdldC5maWxlcyk7CiAgICB9KTsKICB9KTsKCiAgY29uc3QgY2FuY2VsID0gZG9jdW1lbnQuY3JlYXRlRWxlbWVudCgnYnV0dG9uJyk7CiAgaW5wdXRFbGVtZW50LnBhcmVudEVsZW1lbnQuYXBwZW5kQ2hpbGQoY2FuY2VsKTsKICBjYW5jZWwudGV4dENvbnRlbnQgPSAnQ2FuY2VsIHVwbG9hZCc7CiAgY29uc3QgY2FuY2VsUHJvbWlzZSA9IG5ldyBQcm9taXNlKChyZXNvbHZlKSA9PiB7CiAgICBjYW5jZWwub25jbGljayA9ICgpID0+IHsKICAgICAgcmVzb2x2ZShudWxsKTsKICAgIH07CiAgfSk7CgogIC8vIENhbmNlbCB1cGxvYWQgaWYgdXNlciBoYXNuJ3QgcGlja2VkIGFueXRoaW5nIGluIHRpbWVvdXQuCiAgY29uc3QgdGltZW91dFByb21pc2UgPSBuZXcgUHJvbWlzZSgocmVzb2x2ZSkgPT4gewogICAgc2V0VGltZW91dCgoKSA9PiB7CiAgICAgIHJlc29sdmUobnVsbCk7CiAgICB9LCBGSUxFX0NIQU5HRV9USU1FT1VUX01TKTsKICB9KTsKCiAgLy8gV2FpdCBmb3IgdGhlIHVzZXIgdG8gcGljayB0aGUgZmlsZXMuCiAgY29uc3QgZmlsZXMgPSB5aWVsZCB7CiAgICBwcm9taXNlOiBQcm9taXNlLnJhY2UoW3BpY2tlZFByb21pc2UsIHRpbWVvdXRQcm9taXNlLCBjYW5jZWxQcm9taXNlXSksCiAgICByZXNwb25zZTogewogICAgICBhY3Rpb246ICdzdGFydGluZycsCiAgICB9CiAgfTsKCiAgaWYgKCFmaWxlcykgewogICAgcmV0dXJuIHsKICAgICAgcmVzcG9uc2U6IHsKICAgICAgICBhY3Rpb246ICdjb21wbGV0ZScsCiAgICAgIH0KICAgIH07CiAgfQoKICBjYW5jZWwucmVtb3ZlKCk7CgogIC8vIERpc2FibGUgdGhlIGlucHV0IGVsZW1lbnQgc2luY2UgZnVydGhlciBwaWNrcyBhcmUgbm90IGFsbG93ZWQuCiAgaW5wdXRFbGVtZW50LmRpc2FibGVkID0gdHJ1ZTsKCiAgZm9yIChjb25zdCBmaWxlIG9mIGZpbGVzKSB7CiAgICBjb25zdCBsaSA9IGRvY3VtZW50LmNyZWF0ZUVsZW1lbnQoJ2xpJyk7CiAgICBsaS5hcHBlbmQoc3BhbihmaWxlLm5hbWUsIHtmb250V2VpZ2h0OiAnYm9sZCd9KSk7CiAgICBsaS5hcHBlbmQoc3BhbigKICAgICAgICBgKCR7ZmlsZS50eXBlIHx8ICduL2EnfSkgLSAke2ZpbGUuc2l6ZX0gYnl0ZXMsIGAgKwogICAgICAgIGBsYXN0IG1vZGlmaWVkOiAkewogICAgICAgICAgICBmaWxlLmxhc3RNb2RpZmllZERhdGUgPyBmaWxlLmxhc3RNb2RpZmllZERhdGUudG9Mb2NhbGVEYXRlU3RyaW5nKCkgOgogICAgICAgICAgICAgICAgICAgICAgICAgICAgICAgICAgICAnbi9hJ30gLSBgKSk7CiAgICBjb25zdCBwZXJjZW50ID0gc3BhbignMCUgZG9uZScpOwogICAgbGkuYXBwZW5kQ2hpbGQocGVyY2VudCk7CgogICAgb3V0cHV0RWxlbWVudC5hcHBlbmRDaGlsZChsaSk7CgogICAgY29uc3QgZmlsZURhdGFQcm9taXNlID0gbmV3IFByb21pc2UoKHJlc29sdmUpID0+IHsKICAgICAgY29uc3QgcmVhZGVyID0gbmV3IEZpbGVSZWFkZXIoKTsKICAgICAgcmVhZGVyLm9ubG9hZCA9IChlKSA9PiB7CiAgICAgICAgcmVzb2x2ZShlLnRhcmdldC5yZXN1bHQpOwogICAgICB9OwogICAgICByZWFkZXIucmVhZEFzQXJyYXlCdWZmZXIoZmlsZSk7CiAgICB9KTsKICAgIC8vIFdhaXQgZm9yIHRoZSBkYXRhIHRvIGJlIHJlYWR5LgogICAgbGV0IGZpbGVEYXRhID0geWllbGQgewogICAgICBwcm9taXNlOiBmaWxlRGF0YVByb21pc2UsCiAgICAgIHJlc3BvbnNlOiB7CiAgICAgICAgYWN0aW9uOiAnY29udGludWUnLAogICAgICB9CiAgICB9OwoKICAgIC8vIFVzZSBhIGNodW5rZWQgc2VuZGluZyB0byBhdm9pZCBtZXNzYWdlIHNpemUgbGltaXRzLiBTZWUgYi82MjExNTY2MC4KICAgIGxldCBwb3NpdGlvbiA9IDA7CiAgICB3aGlsZSAocG9zaXRpb24gPCBmaWxlRGF0YS5ieXRlTGVuZ3RoKSB7CiAgICAgIGNvbnN0IGxlbmd0aCA9IE1hdGgubWluKGZpbGVEYXRhLmJ5dGVMZW5ndGggLSBwb3NpdGlvbiwgTUFYX1BBWUxPQURfU0laRSk7CiAgICAgIGNvbnN0IGNodW5rID0gbmV3IFVpbnQ4QXJyYXkoZmlsZURhdGEsIHBvc2l0aW9uLCBsZW5ndGgpOwogICAgICBwb3NpdGlvbiArPSBsZW5ndGg7CgogICAgICBjb25zdCBiYXNlNjQgPSBidG9hKFN0cmluZy5mcm9tQ2hhckNvZGUuYXBwbHkobnVsbCwgY2h1bmspKTsKICAgICAgeWllbGQgewogICAgICAgIHJlc3BvbnNlOiB7CiAgICAgICAgICBhY3Rpb246ICdhcHBlbmQnLAogICAgICAgICAgZmlsZTogZmlsZS5uYW1lLAogICAgICAgICAgZGF0YTogYmFzZTY0LAogICAgICAgIH0sCiAgICAgIH07CiAgICAgIHBlcmNlbnQudGV4dENvbnRlbnQgPQogICAgICAgICAgYCR7TWF0aC5yb3VuZCgocG9zaXRpb24gLyBmaWxlRGF0YS5ieXRlTGVuZ3RoKSAqIDEwMCl9JSBkb25lYDsKICAgIH0KICB9CgogIC8vIEFsbCBkb25lLgogIHlpZWxkIHsKICAgIHJlc3BvbnNlOiB7CiAgICAgIGFjdGlvbjogJ2NvbXBsZXRlJywKICAgIH0KICB9Owp9CgpzY29wZS5nb29nbGUgPSBzY29wZS5nb29nbGUgfHwge307CnNjb3BlLmdvb2dsZS5jb2xhYiA9IHNjb3BlLmdvb2dsZS5jb2xhYiB8fCB7fTsKc2NvcGUuZ29vZ2xlLmNvbGFiLl9maWxlcyA9IHsKICBfdXBsb2FkRmlsZXMsCiAgX3VwbG9hZEZpbGVzQ29udGludWUsCn07Cn0pKHNlbGYpOwo=",
       "headers": [
        [
         "content-type",
         "application/javascript"
        ]
       ],
       "ok": true,
       "status": 200,
       "status_text": ""
      }
     }
    },
    "colab_type": "code",
    "collapsed": true,
    "id": "z_aSx78ZGpcN",
    "outputId": "32e20085-b599-4739-9521-6c5587ba6a50"
   },
   "outputs": [],
   "source": [
    "import pandas as pd\n",
    "file_path = '/home/dharmendra/Desktop/desk/captsone/senti_outputs/negative_csv.csv'\n",
    "df = pd.read_csv(file_path)"
   ]
  },
  {
   "cell_type": "code",
   "execution_count": 4,
   "metadata": {},
   "outputs": [
    {
     "data": {
      "text/plain": [
       "pandas.core.series.Series"
      ]
     },
     "execution_count": 4,
     "metadata": {},
     "output_type": "execute_result"
    }
   ],
   "source": [
    "type(df['Negative_Texts'])"
   ]
  },
  {
   "cell_type": "code",
   "execution_count": 5,
   "metadata": {},
   "outputs": [
    {
     "data": {
      "text/plain": [
       "0      In the 1980s I spent several summers in Italy....\n",
       "1      Our cats thrive extremely well on this dry cat...\n",
       "2      The item over all was fine, but the Banana Hea...\n",
       "3      I have tried literally dozens of teas since be...\n",
       "4      I think I have tried just about every Bloody M...\n",
       "5      I've been enjoying this tea for years.  This t...\n",
       "6      This is one of the best tasting crisps I have ...\n",
       "7      I've tried 5-hour energy, red rain, NOS, and o...\n",
       "8      If you're looking for an energy boost without ...\n",
       "9      I tried to find israeli couscous in a number o...\n",
       "10     I like a lot of sesame oil and use it in salad...\n",
       "11     That's exactly what I was looking for to bake ...\n",
       "12     Green Mountain is my favorite brand. Nantucket...\n",
       "13     They aren't fattening and they're good for you...\n",
       "14     Now, I haven't done a side-by-side comparison,...\n",
       "15     These are so tangy it prevents me from eating ...\n",
       "16     I have always been a fan of Kettle chips.  Whe...\n",
       "17     I agree with the other review, these chips are...\n",
       "18     I have tried a lot of S&V chips and these are ...\n",
       "19     Chilling in the fridge seems to boost the flav...\n",
       "20     These chips are VERY GOOD!! I couldn't stop ea...\n",
       "21     These are seriously delicious, especially if y...\n",
       "22     Kettle Foods, Inc. makes the best tasting pota...\n",
       "23     This may sound rediculous, but I actually orde...\n",
       "24     I want to like Kettle because they contain no ...\n",
       "25     So I got this and tasted it strait out of the ...\n",
       "26     We have been using 17-Day Diet guided by Low-G...\n",
       "27     I Love these chips for its unique taste and in...\n",
       "28     These chips are FANFREAKINTASTIC. They are wit...\n",
       "29     I bought thi9s for my dad for a surprise birth...\n",
       "                             ...                        \n",
       "334    4-year old Elkhound loves this food, and it ke...\n",
       "335    Great alternative to dog food with corn and ot...\n",
       "336    I don't know why, because it doesn't look very...\n",
       "337    the auto ship is a terrific way to get hard to...\n",
       "338    This food might have great contents, but my 7 ...\n",
       "339    Yayy!!! Not feeling well today and dreading ha...\n",
       "340    My dogs love it, even the little princess terr...\n",
       "341    I had to pick up a grocery store brand after r...\n",
       "342    I guess my animals (cat and dog) can't read th...\n",
       "343    I originally bought this as a replacement for ...\n",
       "344    My 3 dogs love this food and are thriving on i...\n",
       "345    As other viewers have pointed out, this dog fo...\n",
       "346    I bought this for my miniature schnauzer who i...\n",
       "347    It's all organic and it's on PETA's (People fo...\n",
       "348    I bought this dog food initally because I like...\n",
       "349    Newman's Own is the best dog food ever, in my ...\n",
       "350    The chicken is not organic. It is the MAIN ing...\n",
       "351    I lived down in Louisanna for 10 years, and Co...\n",
       "352    I heard my kids talking about candy they remem...\n",
       "353    This is by far the best decaf I've ever tried....\n",
       "354    Not sure exactly what is in it, but it really ...\n",
       "355    I am having to change my original post on this...\n",
       "356    I have ordered numerous teas, potions, lotions...\n",
       "357    All natural beef, but too soft for my taste - ...\n",
       "358    6-Hour Power's ingredients are pretty much the...\n",
       "359    This stuff will give you a marked energy boost...\n",
       "360    The 6 hour power energy shot does just what it...\n",
       "361    I have a Pit Bull who is a little over a year ...\n",
       "362    Reed's Crystallized Ginger is the real deal! I...\n",
       "363    The cookies came sealed and seem to be high qu...\n",
       "Name: Negative_Texts, Length: 364, dtype: object"
      ]
     },
     "execution_count": 5,
     "metadata": {},
     "output_type": "execute_result"
    }
   ],
   "source": [
    "df['Negative_Texts']"
   ]
  },
  {
   "cell_type": "code",
   "execution_count": 6,
   "metadata": {
    "colab": {},
    "colab_type": "code",
    "collapsed": true,
    "id": "eZVoc3R6G9a8"
   },
   "outputs": [],
   "source": [
    "# split the the text in the articles into sentences\n",
    "sentences = []\n",
    "for s in df['Negative_Texts']:\n",
    "  sentences.append(sent_tokenize(s))"
   ]
  },
  {
   "cell_type": "code",
   "execution_count": 7,
   "metadata": {
    "colab": {},
    "colab_type": "code",
    "collapsed": true,
    "id": "V_lwimHsHB9l"
   },
   "outputs": [],
   "source": [
    "# flatten the list\n",
    "sentences = [y for x in sentences for y in x]"
   ]
  },
  {
   "cell_type": "code",
   "execution_count": 8,
   "metadata": {
    "colab": {},
    "colab_type": "code",
    "collapsed": true,
    "id": "iHvW8lKFHV1x"
   },
   "outputs": [],
   "source": [
    "# remove punctuations, numbers and special characters\n",
    "clean_sentences = pd.Series(sentences).str.replace(\"[^a-zA-Z]\", \" \")\n",
    "\n",
    "# make alphabets lowercase\n",
    "clean_sentences = [s.lower() for s in clean_sentences]"
   ]
  },
  {
   "cell_type": "code",
   "execution_count": 9,
   "metadata": {
    "colab": {},
    "colab_type": "code",
    "collapsed": true,
    "id": "UKk_3HZ-Idjm"
   },
   "outputs": [],
   "source": [
    "from nltk.corpus import stopwords\n",
    "stop_words = stopwords.words('english')"
   ]
  },
  {
   "cell_type": "code",
   "execution_count": 11,
   "metadata": {
    "colab": {},
    "colab_type": "code",
    "collapsed": true,
    "id": "RX_NFApzIkmC"
   },
   "outputs": [],
   "source": [
    "# function to remove stopwords\n",
    "def remove_stopwords(sen):\n",
    "  sen_new = \" \".join([i for i in sen if i not in stop_words])\n",
    "  return sen_new"
   ]
  },
  {
   "cell_type": "code",
   "execution_count": 12,
   "metadata": {
    "colab": {},
    "colab_type": "code",
    "id": "OcFap_w9Ivob"
   },
   "outputs": [],
   "source": [
    "# remove stopwords from the sentences\n",
    "clean_sentences = [remove_stopwords(r.split()) for r in clean_sentences]"
   ]
  },
  {
   "cell_type": "code",
   "execution_count": 21,
   "metadata": {},
   "outputs": [
    {
     "name": "stdout",
     "output_type": "stream",
     "text": [
      "--2019-03-03 22:05:22--  http://nlp.stanford.edu/data/glove.6B.zip\n",
      "Resolving nlp.stanford.edu (nlp.stanford.edu)... 171.64.67.140\n",
      "Connecting to nlp.stanford.edu (nlp.stanford.edu)|171.64.67.140|:80... connected.\n",
      "HTTP request sent, awaiting response... 302 Found\n",
      "Location: https://nlp.stanford.edu/data/glove.6B.zip [following]\n",
      "--2019-03-03 22:05:23--  https://nlp.stanford.edu/data/glove.6B.zip\n",
      "Connecting to nlp.stanford.edu (nlp.stanford.edu)|171.64.67.140|:443... connected.\n",
      "HTTP request sent, awaiting response... 200 OK\n",
      "Length: 862182613 (822M) [application/zip]\n",
      "Saving to: ‘glove.6B.zip.3’\n",
      "\n",
      "glove.6B.zip.3       25%[====>               ] 206.34M   677KB/s    eta 27m 48s^C\n"
     ]
    }
   ],
   "source": [
    "# download pretrained GloVe word embeddings\n",
    "! wget http://nlp.stanford.edu/data/glove.6B.zip"
   ]
  },
  {
   "cell_type": "code",
   "execution_count": 22,
   "metadata": {},
   "outputs": [
    {
     "name": "stdout",
     "output_type": "stream",
     "text": [
      "Archive:  glove.6B.zip\r\n",
      "  End-of-central-directory signature not found.  Either this file is not\r\n",
      "  a zipfile, or it constitutes one disk of a multi-part archive.  In the\r\n",
      "  latter case the central directory and zipfile comment will be found on\r\n",
      "  the last disk(s) of this archive.\r\n",
      "unzip:  cannot find zipfile directory in one of glove.6B.zip or\r\n",
      "        glove.6B.zip.zip, and cannot find glove.6B.zip.ZIP, period.\r\n"
     ]
    }
   ],
   "source": [
    "!unzip glove*.zip"
   ]
  },
  {
   "cell_type": "code",
   "execution_count": 13,
   "metadata": {
    "colab": {
     "base_uri": "https://localhost:8080/",
     "height": 290
    },
    "colab_type": "code",
    "collapsed": true,
    "id": "a5Skjq6DJUtQ",
    "outputId": "eeba2eed-d0ed-42f8-f45f-dea8a99bcb5b"
   },
   "outputs": [],
   "source": [
    "# Extract word vectors\n",
    "word_embeddings = {}\n",
    "f = open('/home/dharmendra/Desktop/textrank_text_summarization-master/glove.6B.100d.txt', encoding='utf-8')\n",
    "for line in f:\n",
    "    values = line.split()\n",
    "    word = values[0]\n",
    "    coefs = np.asarray(values[1:], dtype='float32')\n",
    "    word_embeddings[word] = coefs\n",
    "f.close()"
   ]
  },
  {
   "cell_type": "code",
   "execution_count": 14,
   "metadata": {
    "colab": {},
    "colab_type": "code",
    "collapsed": true,
    "id": "N3VtdSPyKxUZ"
   },
   "outputs": [],
   "source": [
    "sentence_vectors = []\n",
    "for i in clean_sentences:\n",
    "  if len(i) != 0:\n",
    "    v = sum([word_embeddings.get(w, np.zeros((100,))) for w in i.split()])/(len(i.split())+0.001)\n",
    "  else:\n",
    "    v = np.zeros((100,))\n",
    "  sentence_vectors.append(v)"
   ]
  },
  {
   "cell_type": "code",
   "execution_count": 15,
   "metadata": {
    "colab": {
     "base_uri": "https://localhost:8080/",
     "height": 35
    },
    "colab_type": "code",
    "id": "e3Iww3I9LYhJ",
    "outputId": "362a7dd8-b1bf-4478-ef59-34728fbbd8b2"
   },
   "outputs": [
    {
     "data": {
      "text/plain": [
       "1800"
      ]
     },
     "execution_count": 15,
     "metadata": {},
     "output_type": "execute_result"
    }
   ],
   "source": [
    "len(sentence_vectors)"
   ]
  },
  {
   "cell_type": "code",
   "execution_count": 16,
   "metadata": {},
   "outputs": [
    {
     "data": {
      "text/plain": [
       "[array([-0.01628342, -0.00610871, -0.12903023,  0.07460535,  0.23960435,\n",
       "         0.12024993,  0.01822994,  0.5361185 , -0.5586003 , -0.04863385,\n",
       "         0.2671332 , -0.42973503, -0.23734592,  0.41628093, -0.15663384,\n",
       "        -0.36158237,  0.25035498, -0.50993127, -0.33164135,  0.25691378,\n",
       "         0.06292402,  0.6926119 ,  0.12224718,  0.33467036, -0.3401057 ,\n",
       "        -0.45760563, -0.13419648, -0.32606098,  0.04936016,  0.14732817,\n",
       "        -0.19576105,  0.17846365, -0.2927743 , -0.06607274, -0.06057411,\n",
       "         0.6657236 ,  0.13440038, -0.17660335, -0.0518028 ,  0.05055236,\n",
       "        -0.9462759 , -0.33350933,  0.4684194 ,  0.1291992 ,  0.31834918,\n",
       "         0.06046738,  0.32429492, -0.36071733,  0.5118508 , -0.28802726,\n",
       "         0.25945514, -0.35395405,  0.08218697,  0.8714846 , -0.15613349,\n",
       "        -2.0462632 , -0.08798852, -0.25176704,  0.7299375 ,  0.82426393,\n",
       "        -0.06750988,  1.0809398 ,  0.10132767, -0.2136416 ,  0.31857538,\n",
       "         0.05500726,  0.13270432,  0.18207647,  0.47001255,  0.01678579,\n",
       "         0.06448238, -0.01753762, -0.05260935,  0.14690079, -0.02537868,\n",
       "         0.11209198, -0.49652436, -0.0304184 , -0.6060927 ,  0.14065433,\n",
       "         0.72301185,  0.07870533, -0.4146636 ,  0.14010498, -0.72643185,\n",
       "        -0.11862534, -0.23852837,  0.1880005 , -0.43559182, -0.45106974,\n",
       "         0.00294077, -0.16772881,  0.2436191 , -0.03715121, -0.5934366 ,\n",
       "         0.11908773, -0.53618896,  0.2575746 ,  0.4812372 , -0.15428144],\n",
       "       dtype=float32),\n",
       " array([-0.34562778,  0.3502199 , -0.10580704,  0.07119323, -0.21459319,\n",
       "         0.16168478,  0.35919896,  0.2830296 , -0.12623297, -0.2328555 ,\n",
       "        -0.06347244, -0.25171363,  0.221861  ,  0.27638906,  0.21620697,\n",
       "        -0.09537057,  0.01530446, -0.2406899 , -0.29498172, -0.06459342,\n",
       "         0.16329159,  0.08235845,  0.2148569 , -0.21743217, -0.03828509,\n",
       "         0.30351952, -0.28316525, -0.13350706, -0.30274916, -0.17127497,\n",
       "         0.01945669,  0.28428683, -0.04529308, -0.14332782,  0.08784539,\n",
       "         0.75454444, -0.100986  ,  0.28932446, -0.04628709, -0.42511404,\n",
       "        -0.05030808, -0.25824663, -0.04544494, -0.18495996,  0.21920307,\n",
       "         0.05162279, -0.2803762 , -0.22664517,  0.17240342, -0.5444894 ,\n",
       "         0.0472806 , -0.21940681,  0.09331033,  0.5798236 , -0.3129281 ,\n",
       "        -1.3888065 , -0.35709062,  0.05308211,  1.3725259 ,  0.25562602,\n",
       "        -0.0968148 ,  0.5141878 ,  0.01316311, -0.23825672,  0.2773372 ,\n",
       "        -0.25008163,  0.38669413, -0.19278426,  0.23948129, -0.50173575,\n",
       "        -0.35077238, -0.19709498,  0.05021122, -0.03047907, -0.07905411,\n",
       "         0.43962   , -0.32585436, -0.27013448, -0.3431471 ,  0.03339544,\n",
       "         0.20289712, -0.25875726, -0.3110561 ,  0.11051743, -1.0146794 ,\n",
       "        -0.41929546, -0.00688965, -0.04300787, -0.10266041, -0.21474753,\n",
       "         0.17057993,  0.21138993,  0.05241882,  0.06235809, -0.8636383 ,\n",
       "        -0.2083357 ,  0.18237469, -0.13908187,  0.6545608 ,  0.28986153],\n",
       "       dtype=float32),\n",
       " array([-0.05925695,  0.5027635 ,  0.4068426 , -0.12845   ,  0.1286171 ,\n",
       "         0.22722654,  0.07187962,  0.09804378,  0.02428635, -0.12551689,\n",
       "         0.35008225, -0.01853949,  0.18510379,  0.19763567,  0.20946273,\n",
       "         0.02413718, -0.03984204,  0.14706258, -0.11373965,  0.24816638,\n",
       "         0.6105183 ,  0.10929315,  0.17483884, -0.1710058 ,  0.20095702,\n",
       "         0.23788004, -0.20589583, -0.39230755, -0.0424515 , -0.3466107 ,\n",
       "         0.01442652,  0.54849225, -0.21634912, -0.30979544,  0.25087804,\n",
       "         0.6326335 , -0.14862408,  0.09667067,  0.09444709, -0.5533654 ,\n",
       "         0.1539932 , -0.475091  , -0.00391024, -0.37772444,  0.0510018 ,\n",
       "         0.05147971, -0.16897401, -0.16122256,  0.04188682, -0.7644851 ,\n",
       "         0.19976306, -0.01757548,  0.40997118,  0.63800377, -0.38667265,\n",
       "        -2.0619676 , -0.02445709, -0.07226556,  1.4411802 , -0.08549369,\n",
       "         0.15984005,  0.7569867 , -0.25371328,  0.02239553,  0.26372924,\n",
       "        -0.41046932,  0.3570082 ,  0.21689862, -0.01194962, -0.22919014,\n",
       "        -0.06082503,  0.17547266, -0.15124975, -0.15016396,  0.07675486,\n",
       "         0.3085747 , -0.16463107,  0.04995   , -0.5866747 ,  0.10580765,\n",
       "         0.5322576 , -0.02240688, -0.35992283,  0.32817617, -0.89118576,\n",
       "        -0.11903419,  0.215064  , -0.12806657, -0.42537612, -0.26768026,\n",
       "        -0.14598101,  0.08145871, -0.14066227, -0.28551692, -0.71871024,\n",
       "        -0.3394447 , -0.21324196, -0.21901639,  0.3899966 ,  0.22798821],\n",
       "       dtype=float32)]"
      ]
     },
     "execution_count": 16,
     "metadata": {},
     "output_type": "execute_result"
    }
   ],
   "source": [
    "sentence_vectors[:3]"
   ]
  },
  {
   "cell_type": "code",
   "execution_count": 17,
   "metadata": {},
   "outputs": [
    {
     "data": {
      "text/plain": [
       "(100,)"
      ]
     },
     "execution_count": 17,
     "metadata": {},
     "output_type": "execute_result"
    }
   ],
   "source": [
    "sentence_vectors[0].shape"
   ]
  },
  {
   "cell_type": "markdown",
   "metadata": {
    "colab_type": "text",
    "id": "1bh9L2pqL3gp"
   },
   "source": [
    "The next step is to find similarities among the sentences. We will use cosine similarity to find similarity between a pair of sentences. Let's create an empty similarity matrix for this task and populate it with cosine similarities of the sentences."
   ]
  },
  {
   "cell_type": "code",
   "execution_count": 18,
   "metadata": {
    "colab": {},
    "colab_type": "code",
    "id": "mm_fNZpOLxbM"
   },
   "outputs": [],
   "source": [
    "# similarity matrix\n",
    "sim_mat = np.zeros([len(sentences), len(sentences)])"
   ]
  },
  {
   "cell_type": "code",
   "execution_count": 19,
   "metadata": {
    "colab": {},
    "colab_type": "code",
    "collapsed": true,
    "id": "oVeHkvf0MO1j"
   },
   "outputs": [],
   "source": [
    "from sklearn.metrics.pairwise import cosine_similarity"
   ]
  },
  {
   "cell_type": "code",
   "execution_count": 20,
   "metadata": {
    "colab": {},
    "colab_type": "code",
    "collapsed": true,
    "id": "xTAAe-q3L4xM"
   },
   "outputs": [],
   "source": [
    "for i in range(len(sentences)):\n",
    "  for j in range(len(sentences)):\n",
    "    if i != j:\n",
    "      sim_mat[i][j] = cosine_similarity(sentence_vectors[i].reshape(1,100), sentence_vectors[j].reshape(1,100))[0,0]"
   ]
  },
  {
   "cell_type": "code",
   "execution_count": 21,
   "metadata": {
    "colab": {},
    "colab_type": "code",
    "collapsed": true,
    "id": "CAQUnNRWL_tA"
   },
   "outputs": [],
   "source": [
    "import networkx as nx\n",
    "\n",
    "nx_graph = nx.from_numpy_matrix(sim_mat)\n",
    "scores = nx.pagerank(nx_graph)"
   ]
  },
  {
   "cell_type": "code",
   "execution_count": 22,
   "metadata": {
    "colab": {},
    "colab_type": "code",
    "collapsed": true,
    "id": "aQCcvT3yO5Xj"
   },
   "outputs": [],
   "source": [
    "ranked_sentences = sorted(((scores[i],s) for i,s in enumerate(sentences)), reverse=True)"
   ]
  },
  {
   "cell_type": "code",
   "execution_count": 23,
   "metadata": {},
   "outputs": [
    {
     "data": {
      "text/plain": [
       "[(0.0006602153199527035,\n",
       "  \"If you want really tea that is rather sweet, you'll either have to look further or use this with added sweetener.\"),\n",
       " (0.0006600982860089375,\n",
       "  \"I mainly use my Keurig for coffee but thought I'd try this one since I love dark chocolate and it was getting mostly good reviews.\"),\n",
       " (0.0006594134220052381,\n",
       "  \"I'd just pick something else if I'm going to pound water all day long (perhaps the blueberry green tea one which is NOT sweetened - it's excellent as well)  I'll use this for one bottle and a non-sweetened one for the other.\"),\n",
       " (0.0006586892879758086,\n",
       "  \"I also noticed that you don't find nearly as much coating from flavoring on your fingers as I've experienced when eating other chips.<br /><br />Purchasing it by the case to try out all of the flavors is a good idea and a decent value.\"),\n",
       " (0.0006577045613059301,\n",
       "  \"I've done nutritional coaching for 30 years and watched healthy foods progress from painfully bad to barely edible to excellent.<br /><br />This neanderthal-era gluten free bar is so bad I want to go to my local grocery store, take all the boxes off off the shelf and hide them in a different part of the store (perhaps, if there's a trash compactor?)\")]"
      ]
     },
     "execution_count": 23,
     "metadata": {},
     "output_type": "execute_result"
    }
   ],
   "source": [
    "ranked_sentences[:5]"
   ]
  },
  {
   "cell_type": "code",
   "execution_count": 24,
   "metadata": {
    "colab": {
     "base_uri": "https://localhost:8080/",
     "height": 219
    },
    "colab_type": "code",
    "id": "jwxtPBlgO_Gk",
    "outputId": "94f7a32b-fcd3-4295-ec49-4fb69e49342e"
   },
   "outputs": [
    {
     "name": "stdout",
     "output_type": "stream",
     "text": [
      "If you want really tea that is rather sweet, you'll either have to look further or use this with added sweetener.\n",
      "I mainly use my Keurig for coffee but thought I'd try this one since I love dark chocolate and it was getting mostly good reviews.\n",
      "I'd just pick something else if I'm going to pound water all day long (perhaps the blueberry green tea one which is NOT sweetened - it's excellent as well)  I'll use this for one bottle and a non-sweetened one for the other.\n",
      "I also noticed that you don't find nearly as much coating from flavoring on your fingers as I've experienced when eating other chips.<br /><br />Purchasing it by the case to try out all of the flavors is a good idea and a decent value.\n",
      "I've done nutritional coaching for 30 years and watched healthy foods progress from painfully bad to barely edible to excellent.<br /><br />This neanderthal-era gluten free bar is so bad I want to go to my local grocery store, take all the boxes off off the shelf and hide them in a different part of the store (perhaps, if there's a trash compactor?)\n",
      "I liked it so much, I found another store that sold the mix as well as the icing, and there is even a pink lemonade cookie mix which I bought but haven't tried yet.<br /><br />The taste, is of course lemon, but it reminds me a bit of that flavored mix Country Time I drank as a kid, but less tangy.\n",
      "This is a matter of personal taste - the product is good, just not for everyone.<br />I suggest trying this company's old fashioned cold-smoked beef-sticks.\n",
      "You do need to use a little more butter than usual but that makes it even better.\n",
      "I will say that most recipes I could find must have been for some cheap tea bags (weak, somewhat tasteless and bitter), so I experimented a little and found a great recipe for this loose leaf tea.\n",
      ")<br /><br />If I had hot chocolate every day I would consider making it from scratch with more cocoa and fewer chemicals, but since I enjoy the convenience of having it nearly instantly from my Keurig on the occasional whim, I'll just keep a box of these K-cups on hand.\n"
     ]
    }
   ],
   "source": [
    "# Specify number of sentences to form the summary\n",
    "sn = 10\n",
    "\n",
    "# Generate summary\n",
    "for i in range(sn):\n",
    "  print(ranked_sentences[i][1])"
   ]
  },
  {
   "cell_type": "code",
   "execution_count": null,
   "metadata": {
    "collapsed": true
   },
   "outputs": [],
   "source": []
  }
 ],
 "metadata": {
  "accelerator": "GPU",
  "colab": {
   "collapsed_sections": [],
   "include_colab_link": true,
   "name": "TestRank_Text_Summarization.ipynb",
   "provenance": [],
   "version": "0.3.2"
  },
  "kernelspec": {
   "display_name": "Python 3",
   "language": "python",
   "name": "python3"
  },
  "language_info": {
   "codemirror_mode": {
    "name": "ipython",
    "version": 3
   },
   "file_extension": ".py",
   "mimetype": "text/x-python",
   "name": "python",
   "nbconvert_exporter": "python",
   "pygments_lexer": "ipython3",
   "version": "3.6.1"
  }
 },
 "nbformat": 4,
 "nbformat_minor": 1
}
